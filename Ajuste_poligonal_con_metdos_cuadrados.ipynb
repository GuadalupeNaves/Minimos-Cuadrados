{
  "nbformat": 4,
  "nbformat_minor": 0,
  "metadata": {
    "colab": {
      "name": "Ajuste-poligonal-con-metdos-cuadrados.ipynb",
      "provenance": [],
      "authorship_tag": "ABX9TyOhVNxZaE58tBRU/CqvnTOg",
      "include_colab_link": true
    },
    "kernelspec": {
      "name": "python3",
      "display_name": "Python 3"
    },
    "accelerator": "GPU"
  },
  "cells": [
    {
      "cell_type": "markdown",
      "metadata": {
        "id": "view-in-github",
        "colab_type": "text"
      },
      "source": [
        "<a href=\"https://colab.research.google.com/github/GuadalupeNaves/Minimos-Cuadrados/blob/master/Ajuste_poligonal_con_metdos_cuadrados.ipynb\" target=\"_parent\"><img src=\"https://colab.research.google.com/assets/colab-badge.svg\" alt=\"Open In Colab\"/></a>"
      ]
    },
    {
      "cell_type": "code",
      "metadata": {
        "id": "i1XBMab95Xtp",
        "colab_type": "code",
        "colab": {
          "base_uri": "https://localhost:8080/",
          "height": 68
        },
        "outputId": "15a089bc-df5a-451b-baa1-331593bc0efe"
      },
      "source": [
        "import numpy as np\n",
        "\n",
        "def polyfit2(x,y,n):\n",
        "\n",
        "  def inv(A):\n",
        "    return np.linalg.inv(A)\n",
        "  def trans(A):\n",
        "    return A.getT()\n",
        "  def prod(A,B):\n",
        "    return np.dot(A,B)\n",
        "\n",
        "  xlen = len(x)\n",
        "  ylen = len(y)\n",
        "  one = np.ones((xlen, n+1), dtype=int)\n",
        "  c1=one[:, [1]]\n",
        "  xT=np.matrix(x)\n",
        "  yT=np.matrix(y)\n",
        "  c2=xT.getT()\n",
        "  c3=np.power(c2,2)\n",
        "  A=np.hstack([c1,c2,c3])\n",
        "  ajuste = prod(prod(inv(prod(trans(A),A)),trans(A)),trans(yT))\n",
        "  print(ajuste)\n",
        "\n",
        "x=[1.0,-2.0,3.0,4.0]\n",
        "y=[4.0,5.0,-1.0,1.0]\n",
        "\n",
        "polyfit2(x,y,2)"
      ],
      "execution_count": 5,
      "outputs": [
        {
          "output_type": "stream",
          "text": [
            "[[ 3.75      ]\n",
            " [-0.81060606]\n",
            " [-0.03787879]]\n"
          ],
          "name": "stdout"
        }
      ]
    }
  ]
}