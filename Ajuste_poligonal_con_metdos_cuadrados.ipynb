{
  "nbformat": 4,
  "nbformat_minor": 0,
  "metadata": {
    "colab": {
      "name": "Ajuste-poligonal-con-metdos-cuadrados.ipynb",
      "provenance": [],
      "authorship_tag": "ABX9TyOQ6usRCcP+zkDCipzbBjY4",
      "include_colab_link": true
    },
    "kernelspec": {
      "name": "python3",
      "display_name": "Python 3"
    },
    "accelerator": "GPU"
  },
  "cells": [
    {
      "cell_type": "markdown",
      "metadata": {
        "id": "view-in-github",
        "colab_type": "text"
      },
      "source": [
        "<a href=\"https://colab.research.google.com/github/GuadalupeNaves/Minimos-Cuadrados/blob/master/Ajuste_poligonal_con_metdos_cuadrados.ipynb\" target=\"_parent\"><img src=\"https://colab.research.google.com/assets/colab-badge.svg\" alt=\"Open In Colab\"/></a>"
      ]
    },
    {
      "cell_type": "code",
      "metadata": {
        "id": "i1XBMab95Xtp",
        "colab_type": "code",
        "outputId": "f635a1f3-87fb-4dab-944f-8fb177ef9b77",
        "colab": {
          "base_uri": "https://localhost:8080/",
          "height": 129
        }
      },
      "source": [
        "from sklearn.preprocessing import PolynomialFeatures \n",
        "import matplotlib.pyplot as plt \n",
        "import numpy as np\n",
        "\n",
        "\n",
        "\n",
        "def polyfit2(x,y,n):\n",
        "\n",
        "  def inv(A):\n",
        "    return np.linalg.inv(A)\n",
        "  def trans(A):\n",
        "    return A.getT()\n",
        "  def prod(A,B):\n",
        "    return np.dot(A,B)\n",
        "\n",
        "\n",
        "\n",
        "\n",
        "  xlen = len(x)\n",
        "  ylen = len(y)\n",
        "  one = np.ones((xlen, n+1), dtype=int)\n",
        "  c1=one[:, [1]]\n",
        "  xT=np.matrix(x)\n",
        "  yT=np.matrix(y)\n",
        "  c2=xT.getT()\n",
        "  c3=np.power(c2,2)\n",
        "  A=np.hstack([c1,c2,c3])\n",
        "  ajuste = prod(prod(inv(prod(trans(A),A)),trans(A)),trans(yT))\n",
        "  print(ajuste)\n",
        " \n",
        "x=[1.0,-2.0,3.0,4.0]\n",
        "y=[4.0,5.0,-1.0,1.0]\n",
        " \n",
        " \n",
        "polyfit2(x,y,2)\n",
        "\n",
        "  poly_reg = PolynomialFeatures(degree=2)\n",
        "  X_poly = poly_reg.fit_trasnform(X)"
      ],
      "execution_count": 0,
      "outputs": [
        {
          "output_type": "error",
          "ename": "IndentationError",
          "evalue": "ignored",
          "traceback": [
            "\u001b[0;36m  File \u001b[0;32m\"<ipython-input-24-36adc1367848>\"\u001b[0;36m, line \u001b[0;32m37\u001b[0m\n\u001b[0;31m    poly_reg = PolynomialFeatures(degree=2)\u001b[0m\n\u001b[0m    ^\u001b[0m\n\u001b[0;31mIndentationError\u001b[0m\u001b[0;31m:\u001b[0m unexpected indent\n"
          ]
        }
      ]
    }
  ]
}