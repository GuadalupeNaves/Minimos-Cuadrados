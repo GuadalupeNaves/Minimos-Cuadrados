{
  "nbformat": 4,
  "nbformat_minor": 0,
  "metadata": {
    "colab": {
      "name": "ajuste-polinomial.ipynb",
      "provenance": [],
      "authorship_tag": "ABX9TyPNKBpOxrYL/GA3LIrdTIp5",
      "include_colab_link": true
    },
    "kernelspec": {
      "name": "python3",
      "display_name": "Python 3"
    }
  },
  "cells": [
    {
      "cell_type": "markdown",
      "metadata": {
        "id": "view-in-github",
        "colab_type": "text"
      },
      "source": [
        "<a href=\"https://colab.research.google.com/github/GuadalupeNaves/Minimos-Cuadrados/blob/master/ajuste_polinomial.ipynb\" target=\"_parent\"><img src=\"https://colab.research.google.com/assets/colab-badge.svg\" alt=\"Open In Colab\"/></a>"
      ]
    },
    {
      "cell_type": "code",
      "metadata": {
        "id": "BQqaq_N1M2Ke",
        "colab_type": "code",
        "colab": {}
      },
      "source": [
        "from sklearn.linear_model import LinearRegression \n",
        "from sklearn.preprocessing import PolynomialFeatures \n",
        "import matplotlib.pyplot as plt \n",
        "import pandas as pd \n",
        "from timeit import default_timer\n",
        "\n",
        "dataset = pd.read_csv(\"Salary_Data.csv\") \n",
        "\n",
        "X = dataset.iloc[:,:-1].values \n",
        "y = dataset.iloc[:,1].values \n",
        "lin_reg = LinearRegression()\n",
        "\n",
        "for n in range(16):\n",
        "  inicio = default_timer()\n",
        "  poly_reg = PolynomialFeatures(degree=n)\n",
        "  \n",
        "  \n",
        "  X_poly = poly_reg.fit_transform(X)\n",
        "  poly_reg.fit(X_poly,y)\n",
        "  lin_reg.fit(X_poly,y)\n",
        "\n",
        "  plt.scatter(X,y)\n",
        "  plt.plot(X,lin_reg.predict(poly_reg.fit_transform(X)))\n",
        "  fin = default_timer() \n",
        "  \n",
        "  print(\"Ajuste polinomial grado\", n,\" (\",fin-inicio,\" s)\")\n",
        "  plt.show()"
      ],
      "execution_count": 0,
      "outputs": []
    }
  ]
}